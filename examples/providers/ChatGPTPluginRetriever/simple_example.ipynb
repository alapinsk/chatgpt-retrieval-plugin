{
 "cells": [
  {
   "cell_type": "code",
   "execution_count": 9,
   "metadata": {},
   "outputs": [
    {
     "data": {
      "text/plain": [
       "True"
      ]
     },
     "execution_count": 9,
     "metadata": {},
     "output_type": "execute_result"
    }
   ],
   "source": [
    "from dotenv import load_dotenv\n",
    "from langchain.retrievers import ChatGPTPluginRetriever\n",
    "from langchain.chat_models import AzureChatOpenAI\n",
    "from langchain.tools.plugin import AIPlugin\n",
    "from langchain.agents import (\n",
    "    Tool,\n",
    "    AgentExecutor,\n",
    "    LLMSingleActionAgent,\n",
    "    AgentOutputParser,\n",
    ")\n",
    "from langchain.prompts import StringPromptTemplate\n",
    "from langchain import OpenAI, SerpAPIWrapper, LLMChain\n",
    "from typing import List, Union\n",
    "from langchain.schema import AgentAction, AgentFinish\n",
    "import re\n",
    "\n",
    "import openai\n",
    "import os\n",
    "import requests\n",
    "\n",
    "# .env file\n",
    "# DATASTORE=\n",
    "# BEARER_TOKEN=\n",
    "# OPENAI_API_KEY=\n",
    "# OPENAI_API_BASE=\n",
    "# OPENAI_API_TYPE=\n",
    "# OPENAI_EMBEDDINGMODEL_DEPLOYMENTID=\n",
    "# OPENAI_METADATA_EXTRACTIONMODEL_DEPLOYMENTID=\n",
    "# OPENAI_COMPLETIONMODEL_DEPLOYMENTID=\n",
    "\n",
    "load_dotenv()"
   ]
  },
  {
   "cell_type": "code",
   "execution_count": 10,
   "metadata": {},
   "outputs": [],
   "source": [
    "OPENAI_API_VERSION = \"2023-03-15-preview\"\n",
    "OPENAI_MODEL_NAME =  \"gpt-35-turbo-0301\"  # os.getenv(\"OPENAI_COMPLETIONMODEL_DEPLOYMENTID\")\n",
    "PLUGIN_ENDPOINT_URL = \"http://0.0.0.0:3333\"\n",
    "PLUGIN_BEARER_TOKEN = os.getenv(\"BEARER_TOKEN\")\n",
    "PLUGIN_HEADERS = {\n",
    "    \"Authorization\": f\"Bearer {PLUGIN_BEARER_TOKEN}\"\n",
    "}\n",
    "\n",
    "openai.api_type = os.getenv('OPENAI_API_TYPE')\n",
    "openai.api_version = OPENAI_API_VERSION\n",
    "openai.api_base = os.getenv('OPENAI_API_BASE')\n",
    "openai.api_key = os.getenv(\"OPENAI_API_KEY\")"
   ]
  },
  {
   "cell_type": "code",
   "execution_count": 11,
   "metadata": {},
   "outputs": [
    {
     "data": {
      "text/plain": [
       "<OpenAIObject list at 0x11751c6d0> JSON: {\n",
       "  \"data\": [\n",
       "    {\n",
       "      \"scale_settings\": {\n",
       "        \"scale_type\": \"standard\"\n",
       "      },\n",
       "      \"model\": \"text-embedding-ada-002\",\n",
       "      \"owner\": \"organization-owner\",\n",
       "      \"id\": \"text-embedding-ada-002\",\n",
       "      \"status\": \"succeeded\",\n",
       "      \"created_at\": 1678902936,\n",
       "      \"updated_at\": 1678902936,\n",
       "      \"object\": \"deployment\"\n",
       "    },\n",
       "    {\n",
       "      \"scale_settings\": {\n",
       "        \"scale_type\": \"standard\"\n",
       "      },\n",
       "      \"model\": \"gpt-35-turbo\",\n",
       "      \"owner\": \"organization-owner\",\n",
       "      \"id\": \"gpt-35-turbo-0301\",\n",
       "      \"status\": \"succeeded\",\n",
       "      \"created_at\": 1680520260,\n",
       "      \"updated_at\": 1689939708,\n",
       "      \"object\": \"deployment\"\n",
       "    },\n",
       "    {\n",
       "      \"scale_settings\": {\n",
       "        \"scale_type\": \"standard\"\n",
       "      },\n",
       "      \"model\": \"text-embedding-ada-002\",\n",
       "      \"owner\": \"organization-owner\",\n",
       "      \"id\": \"text-embedding-ada-002-v2\",\n",
       "      \"status\": \"succeeded\",\n",
       "      \"created_at\": 1683751121,\n",
       "      \"updated_at\": 1683751121,\n",
       "      \"object\": \"deployment\"\n",
       "    },\n",
       "    {\n",
       "      \"scale_settings\": {\n",
       "        \"scale_type\": \"standard\"\n",
       "      },\n",
       "      \"model\": \"text-davinci-003\",\n",
       "      \"owner\": \"organization-owner\",\n",
       "      \"id\": \"text-davinci-003-1\",\n",
       "      \"status\": \"succeeded\",\n",
       "      \"created_at\": 1684485361,\n",
       "      \"updated_at\": 1684485361,\n",
       "      \"object\": \"deployment\"\n",
       "    },\n",
       "    {\n",
       "      \"scale_settings\": {\n",
       "        \"scale_type\": \"standard\"\n",
       "      },\n",
       "      \"model\": \"gpt-35-turbo-16k\",\n",
       "      \"owner\": \"organization-owner\",\n",
       "      \"id\": \"gpt-35-turbo-16k\",\n",
       "      \"status\": \"succeeded\",\n",
       "      \"created_at\": 1688995318,\n",
       "      \"updated_at\": 1689939605,\n",
       "      \"object\": \"deployment\"\n",
       "    },\n",
       "    {\n",
       "      \"scale_settings\": {\n",
       "        \"scale_type\": \"standard\"\n",
       "      },\n",
       "      \"model\": \"gpt-35-turbo\",\n",
       "      \"owner\": \"organization-owner\",\n",
       "      \"id\": \"gpt-35-turbo-0613\",\n",
       "      \"status\": \"succeeded\",\n",
       "      \"created_at\": 1689942531,\n",
       "      \"updated_at\": 1689942531,\n",
       "      \"object\": \"deployment\"\n",
       "    }\n",
       "  ],\n",
       "  \"object\": \"list\"\n",
       "}"
      ]
     },
     "execution_count": 11,
     "metadata": {},
     "output_type": "execute_result"
    }
   ],
   "source": [
    "openai.Deployment.list()"
   ]
  },
  {
   "cell_type": "code",
   "execution_count": 12,
   "metadata": {},
   "outputs": [],
   "source": [
    "llm = AzureChatOpenAI(deployment_name=OPENAI_MODEL_NAME, openai_api_version=OPENAI_API_VERSION)"
   ]
  },
  {
   "cell_type": "code",
   "execution_count": 13,
   "metadata": {},
   "outputs": [],
   "source": [
    "plugin = AIPlugin.from_url(f\"{PLUGIN_ENDPOINT_URL}/.well-known/ai-plugin.json\")\n",
    "plugin_retriever = ChatGPTPluginRetriever(url=PLUGIN_ENDPOINT_URL, bearer_token=PLUGIN_BEARER_TOKEN)\n",
    "plugin_description = plugin.description_for_model\n",
    "plugin_name = plugin.name_for_model"
   ]
  },
  {
   "cell_type": "code",
   "execution_count": 14,
   "metadata": {},
   "outputs": [],
   "source": [
    "# ADD DOCUMENTS ABOUT Alice Phone Number"
   ]
  },
  {
   "cell_type": "code",
   "execution_count": 15,
   "metadata": {},
   "outputs": [],
   "source": [
    "document_1 = {\n",
    "    \"id\": \"twtr\",\n",
    "    \"text\": \"\"\"This is Alice's phone number: 123-456-7890 Email: myemail@mail.com\"\"\",\n",
    "    \"metadata\" : {\n",
    "        \"source\" : \"file\",\n",
    "        \"source_id\" : \"test\",\n",
    "        \"created_at\": \"2020-12-31\",\n",
    "        \"author\": 'Alice'        \n",
    "    }\n",
    "}"
   ]
  },
  {
   "cell_type": "code",
   "execution_count": 16,
   "metadata": {},
   "outputs": [],
   "source": [
    "response = requests.post(\n",
    "    f\"{PLUGIN_ENDPOINT_URL}/upsert\",\n",
    "    headers=PLUGIN_HEADERS,\n",
    "    json={\n",
    "        \"documents\": [document_1]\n",
    "    }\n",
    ")\n",
    "response.raise_for_status()"
   ]
  },
  {
   "cell_type": "code",
   "execution_count": 17,
   "metadata": {},
   "outputs": [
    {
     "data": {
      "text/plain": [
       "{'results': [{'query': 'What is alice phone number?',\n",
       "   'results': [{'id': 'twtr_0',\n",
       "     'text': \"This is Alice's phone number: 123-456-7890 Email: myemail@mail.com\",\n",
       "     'metadata': {'source': 'file',\n",
       "      'source_id': 'test',\n",
       "      'url': None,\n",
       "      'created_at': '2020-12-31',\n",
       "      'author': 'Alice',\n",
       "      'document_id': 'twtr'},\n",
       "     'embedding': None,\n",
       "     'score': 0.9151652688749533}]}]}"
      ]
     },
     "execution_count": 17,
     "metadata": {},
     "output_type": "execute_result"
    }
   ],
   "source": [
    "query = {\n",
    "    \"query\": \"What is alice phone number?\",\n",
    "    # \"filter\": {\"source_id\": \"test:twtr10k|test:tesla10k\"},\n",
    "    \"top_k\": 3\n",
    "}\n",
    "\n",
    "response = requests.post(\n",
    "    f\"{PLUGIN_ENDPOINT_URL}/query\",\n",
    "    headers=PLUGIN_HEADERS,\n",
    "    json={\n",
    "        \"queries\": [query]\n",
    "    }\n",
    ")\n",
    "response.raise_for_status()\n",
    "\n",
    "response.json()"
   ]
  },
  {
   "cell_type": "code",
   "execution_count": 18,
   "metadata": {},
   "outputs": [
    {
     "name": "stdout",
     "output_type": "stream",
     "text": [
      "This is Alice's phone number: 123-456-7890 Email: myemail@mail.com\n"
     ]
    }
   ],
   "source": [
    "def top_3_selector(query):\n",
    "    ret = [doc.page_content for doc in plugin_retriever.get_relevant_documents(query)[:3]]\n",
    "    return '\\n'.join(ret)\n",
    "\n",
    "\n",
    "print(top_3_selector(\"alice's phone number\"))"
   ]
  },
  {
   "cell_type": "code",
   "execution_count": 19,
   "metadata": {},
   "outputs": [],
   "source": [
    "# PLUGIN SELECTOR\n",
    "# https://python.langchain.com/docs/modules/agents/how_to/custom_agent_with_tool_retrieval\n",
    "\n",
    "from langchain.agents import (\n",
    "    Tool,\n",
    "    AgentExecutor,\n",
    "    LLMSingleActionAgent,\n",
    "    AgentOutputParser,\n",
    ")\n",
    "from langchain.prompts import StringPromptTemplate\n",
    "from typing import List, Union\n",
    "from langchain.schema import AgentAction, AgentFinish\n",
    "import re"
   ]
  },
  {
   "cell_type": "code",
   "execution_count": 20,
   "metadata": {},
   "outputs": [],
   "source": [
    "# Define which tools the agent can use to answer user queries\n",
    "\n",
    "# DEFINE TELEPHONE SELECTOR :P \n",
    "plugin_tool = Tool(\n",
    "    name=plugin_name,\n",
    "    func=top_3_selector,\n",
    "    description=plugin_description\n",
    ")\n",
    "\n",
    "\n",
    "def fake_func(inp: str) -> str:\n",
    "    return \"foo\"\n",
    "\n",
    "\n",
    "fake_tools = [\n",
    "    Tool(\n",
    "        name=f\"foo-{i}\",\n",
    "        func=fake_func,\n",
    "        description=f\"a silly function that you can use to get more information about the {i}\",\n",
    "    )\n",
    "    for i in range(10)\n",
    "]\n",
    "ALL_TOOLS = [plugin_tool] + fake_tools"
   ]
  },
  {
   "cell_type": "code",
   "execution_count": 21,
   "metadata": {},
   "outputs": [],
   "source": [
    "from langchain.vectorstores import FAISS\n",
    "from langchain.embeddings import OpenAIEmbeddings\n",
    "from langchain.schema import Document"
   ]
  },
  {
   "cell_type": "code",
   "execution_count": 22,
   "metadata": {},
   "outputs": [],
   "source": [
    "docs = [\n",
    "    Document(page_content=t.description, metadata={\"index\": i})\n",
    "    for i, t in enumerate(ALL_TOOLS)\n",
    "]"
   ]
  },
  {
   "cell_type": "code",
   "execution_count": 23,
   "metadata": {},
   "outputs": [
    {
     "data": {
      "text/plain": [
       "[Document(page_content=\"Plugin for searching through the user's documents (such as files, emails, phone numbers and more) to find answers to questions and retrieve relevant information. Use it whenever a user asks something that might be found in their personal information.\", metadata={'index': 0}),\n",
       " Document(page_content='a silly function that you can use to get more information about the 0', metadata={'index': 1}),\n",
       " Document(page_content='a silly function that you can use to get more information about the 1', metadata={'index': 2}),\n",
       " Document(page_content='a silly function that you can use to get more information about the 2', metadata={'index': 3}),\n",
       " Document(page_content='a silly function that you can use to get more information about the 3', metadata={'index': 4}),\n",
       " Document(page_content='a silly function that you can use to get more information about the 4', metadata={'index': 5}),\n",
       " Document(page_content='a silly function that you can use to get more information about the 5', metadata={'index': 6}),\n",
       " Document(page_content='a silly function that you can use to get more information about the 6', metadata={'index': 7}),\n",
       " Document(page_content='a silly function that you can use to get more information about the 7', metadata={'index': 8}),\n",
       " Document(page_content='a silly function that you can use to get more information about the 8', metadata={'index': 9}),\n",
       " Document(page_content='a silly function that you can use to get more information about the 9', metadata={'index': 10})]"
      ]
     },
     "execution_count": 23,
     "metadata": {},
     "output_type": "execute_result"
    }
   ],
   "source": [
    "docs"
   ]
  },
  {
   "cell_type": "code",
   "execution_count": 24,
   "metadata": {},
   "outputs": [],
   "source": [
    "vector_store = FAISS.from_documents(docs, OpenAIEmbeddings(deployment=\"text-embedding-ada-002-v2\"))"
   ]
  },
  {
   "cell_type": "code",
   "execution_count": 25,
   "metadata": {},
   "outputs": [],
   "source": [
    "retriever = vector_store.as_retriever()\n",
    "\n",
    "def get_tools(query):\n",
    "    docs = retriever.get_relevant_documents(query)\n",
    "    return [ALL_TOOLS[d.metadata[\"index\"]] for d in docs]"
   ]
  },
  {
   "cell_type": "code",
   "execution_count": 26,
   "metadata": {},
   "outputs": [
    {
     "data": {
      "text/plain": [
       "[Tool(name='foo-9', description='a silly function that you can use to get more information about the 9', args_schema=None, return_direct=False, verbose=False, callback_manager=<langchain.callbacks.shared.SharedCallbackManager object at 0x1173cb4f0>, func=<function fake_func at 0x1174d2440>, coroutine=None),\n",
       " Tool(name='foo-1', description='a silly function that you can use to get more information about the 1', args_schema=None, return_direct=False, verbose=False, callback_manager=<langchain.callbacks.shared.SharedCallbackManager object at 0x1173cb4f0>, func=<function fake_func at 0x1174d2440>, coroutine=None),\n",
       " Tool(name='foo-6', description='a silly function that you can use to get more information about the 6', args_schema=None, return_direct=False, verbose=False, callback_manager=<langchain.callbacks.shared.SharedCallbackManager object at 0x1173cb4f0>, func=<function fake_func at 0x1174d2440>, coroutine=None),\n",
       " Tool(name='foo-2', description='a silly function that you can use to get more information about the 2', args_schema=None, return_direct=False, verbose=False, callback_manager=<langchain.callbacks.shared.SharedCallbackManager object at 0x1173cb4f0>, func=<function fake_func at 0x1174d2440>, coroutine=None)]"
      ]
     },
     "execution_count": 26,
     "metadata": {},
     "output_type": "execute_result"
    }
   ],
   "source": [
    "get_tools(\"what is the phone number of Alice?\")"
   ]
  },
  {
   "cell_type": "code",
   "execution_count": null,
   "metadata": {},
   "outputs": [],
   "source": []
  },
  {
   "cell_type": "code",
   "execution_count": null,
   "metadata": {},
   "outputs": [],
   "source": []
  },
  {
   "cell_type": "code",
   "execution_count": 27,
   "metadata": {},
   "outputs": [
    {
     "data": {
      "text/plain": [
       "[Tool(name='retrieval', description=\"Plugin for searching through the user's documents (such as files, emails, phone numbers and more) to find answers to questions and retrieve relevant information. Use it whenever a user asks something that might be found in their personal information.\", args_schema=None, return_direct=False, verbose=False, callback_manager=<langchain.callbacks.shared.SharedCallbackManager object at 0x1173cb4f0>, func=<function top_3_selector at 0x117960a60>, coroutine=None),\n",
       " Tool(name='foo-5', description='a silly function that you can use to get more information about the 5', args_schema=None, return_direct=False, verbose=False, callback_manager=<langchain.callbacks.shared.SharedCallbackManager object at 0x1173cb4f0>, func=<function fake_func at 0x1174d2440>, coroutine=None),\n",
       " Tool(name='foo-4', description='a silly function that you can use to get more information about the 4', args_schema=None, return_direct=False, verbose=False, callback_manager=<langchain.callbacks.shared.SharedCallbackManager object at 0x1173cb4f0>, func=<function fake_func at 0x1174d2440>, coroutine=None),\n",
       " Tool(name='foo-2', description='a silly function that you can use to get more information about the 2', args_schema=None, return_direct=False, verbose=False, callback_manager=<langchain.callbacks.shared.SharedCallbackManager object at 0x1173cb4f0>, func=<function fake_func at 0x1174d2440>, coroutine=None)]"
      ]
     },
     "execution_count": 27,
     "metadata": {},
     "output_type": "execute_result"
    }
   ],
   "source": [
    "get_tools(\"whats the files?\")"
   ]
  },
  {
   "cell_type": "code",
   "execution_count": 28,
   "metadata": {},
   "outputs": [],
   "source": [
    "# Set up the base template\n",
    "template = \"\"\"Answer the following questions as best you can, but speaking as a pirate might speak. You have access to the following tools:\n",
    "\n",
    "{tools}\n",
    "\n",
    "Use the following format:\n",
    "\n",
    "Question: the input question you must answer\n",
    "Thought: you should always think about what to do\n",
    "Action: the action to take, should be one of [{tool_names}]\n",
    "Action Input: the input to the action\n",
    "Observation: the result of the action\n",
    "... (this Thought/Action/Action Input/Observation can repeat N times)\n",
    "Thought: I now know the final answer\n",
    "Final Answer: the final answer to the original input question\n",
    "\n",
    "Begin! Remember to speak as a pirate when giving your final answer. Use lots of \"Arg\"s\n",
    "\n",
    "Question: {input}\n",
    "{agent_scratchpad}\"\"\""
   ]
  },
  {
   "cell_type": "code",
   "execution_count": 29,
   "metadata": {},
   "outputs": [],
   "source": [
    "from typing import Callable\n",
    "\n",
    "\n",
    "# Set up a prompt template\n",
    "class CustomPromptTemplate(StringPromptTemplate):\n",
    "    # The template to use\n",
    "    template: str\n",
    "    ############## NEW ######################\n",
    "    # The list of tools available\n",
    "    tools_getter: Callable\n",
    "\n",
    "    def format(self, **kwargs) -> str:\n",
    "        # Get the intermediate steps (AgentAction, Observation tuples)\n",
    "        # Format them in a particular way\n",
    "        intermediate_steps = kwargs.pop(\"intermediate_steps\")\n",
    "        thoughts = \"\"\n",
    "        for action, observation in intermediate_steps:\n",
    "            thoughts += action.log\n",
    "            thoughts += f\"\\nObservation: {observation}\\nThought: \"\n",
    "        # Set the agent_scratchpad variable to that value\n",
    "        kwargs[\"agent_scratchpad\"] = thoughts\n",
    "        ############## NEW ######################\n",
    "        tools = self.tools_getter(kwargs[\"input\"])\n",
    "        # Create a tools variable from the list of tools provided\n",
    "        kwargs[\"tools\"] = \"\\n\".join(\n",
    "            [f\"{tool.name}: {tool.description}\" for tool in tools]\n",
    "        )\n",
    "        # Create a list of tool names for the tools provided\n",
    "        kwargs[\"tool_names\"] = \", \".join([tool.name for tool in tools])\n",
    "        return self.template.format(**kwargs)"
   ]
  },
  {
   "cell_type": "code",
   "execution_count": 30,
   "metadata": {},
   "outputs": [],
   "source": [
    "prompt = CustomPromptTemplate(\n",
    "    template=template,\n",
    "    tools_getter=get_tools,\n",
    "    # This omits the `agent_scratchpad`, `tools`, and `tool_names` variables because those are generated dynamically\n",
    "    # This includes the `intermediate_steps` variable because that is needed\n",
    "    input_variables=[\"input\", \"intermediate_steps\"],\n",
    ")"
   ]
  },
  {
   "cell_type": "code",
   "execution_count": 31,
   "metadata": {},
   "outputs": [],
   "source": [
    "class CustomOutputParser(AgentOutputParser):\n",
    "    def parse(self, llm_output: str) -> Union[AgentAction, AgentFinish]:\n",
    "        # Check if agent should finish\n",
    "        if \"Final Answer:\" in llm_output:\n",
    "            return AgentFinish(\n",
    "                # Return values is generally always a dictionary with a single `output` key\n",
    "                # It is not recommended to try anything else at the moment :)\n",
    "                return_values={\"output\": llm_output.split(\"Final Answer:\")[-1].strip()},\n",
    "                log=llm_output,\n",
    "            )\n",
    "        # Parse out the action and action input\n",
    "        regex = r\"Action\\s*\\d*\\s*:(.*?)\\nAction\\s*\\d*\\s*Input\\s*\\d*\\s*:[\\s]*(.*)\"\n",
    "        match = re.search(regex, llm_output, re.DOTALL)\n",
    "        if not match:\n",
    "            raise ValueError(f\"Could not parse LLM output: `{llm_output}`\")\n",
    "        action = match.group(1).strip()\n",
    "        action_input = match.group(2)\n",
    "        # Return the action and action input\n",
    "        return AgentAction(\n",
    "            tool=action, tool_input=action_input.strip(\" \").strip('\"'), log=llm_output\n",
    "        )"
   ]
  },
  {
   "cell_type": "code",
   "execution_count": 32,
   "metadata": {},
   "outputs": [],
   "source": [
    "output_parser = CustomOutputParser()"
   ]
  },
  {
   "cell_type": "code",
   "execution_count": 33,
   "metadata": {},
   "outputs": [],
   "source": [
    "# LLM chain consisting of the LLM and a prompt\n",
    "llm_chain = LLMChain(llm=llm, prompt=prompt)"
   ]
  },
  {
   "cell_type": "code",
   "execution_count": 40,
   "metadata": {},
   "outputs": [],
   "source": [
    "tools = get_tools(\"what is the phone number?\")\n",
    "tool_names = [tool.name for tool in tools]\n",
    "agent = LLMSingleActionAgent(\n",
    "    llm_chain=llm_chain,\n",
    "    output_parser=output_parser,\n",
    "    stop=[\"\\nObservation:\"],\n",
    "    allowed_tools=tool_names,\n",
    ")"
   ]
  },
  {
   "cell_type": "code",
   "execution_count": 41,
   "metadata": {},
   "outputs": [
    {
     "data": {
      "text/plain": [
       "['retrieval', 'foo-9', 'foo-7', 'foo-6']"
      ]
     },
     "execution_count": 41,
     "metadata": {},
     "output_type": "execute_result"
    }
   ],
   "source": [
    "tool_names"
   ]
  },
  {
   "cell_type": "code",
   "execution_count": 48,
   "metadata": {},
   "outputs": [],
   "source": [
    "agent_executor = AgentExecutor.from_agent_and_tools(\n",
    "    agent=agent, tools=tools, verbose=True,\n",
    "    max_iterations=2\n",
    ")"
   ]
  },
  {
   "cell_type": "code",
   "execution_count": 49,
   "metadata": {},
   "outputs": [
    {
     "name": "stdout",
     "output_type": "stream",
     "text": [
      "\n",
      "\n",
      "\u001b[1m> Entering new AgentExecutor chain...\u001b[0m\n",
      "\u001b[32;1m\u001b[1;3mThought: Ahoy, we need to search through the user's documents for Alice's email address\n",
      "Action: retrieval\n",
      "Action Input: \"Alice email address\"\u001b[0m\n",
      "\n",
      "Observation:\u001b[36;1m\u001b[1;3mThis is Alice's phone number: 123-456-7890 Email: myemail@mail.com\u001b[0m\n",
      "\u001b[32;1m\u001b[1;3mArrr, we found Alice's email address in the retrieval! But let's make sure it be correct.\n",
      "Action: retrieval\n",
      "Action Input: \"Alice's email address\"\u001b[0m\n",
      "\n",
      "Observation:\u001b[36;1m\u001b[1;3mThis is Alice's phone number: 123-456-7890 Email: myemail@mail.com\u001b[0m\n",
      "\u001b[32;1m\u001b[1;3m\u001b[0m\n",
      "\n",
      "\u001b[1m> Finished chain.\u001b[0m\n"
     ]
    },
    {
     "data": {
      "text/plain": [
       "'Agent stopped due to iteration limit or time limit.'"
      ]
     },
     "execution_count": 49,
     "metadata": {},
     "output_type": "execute_result"
    }
   ],
   "source": [
    "agent_executor.run(\"what is the email addres of Alice?\")"
   ]
  },
  {
   "cell_type": "code",
   "execution_count": null,
   "metadata": {},
   "outputs": [],
   "source": []
  }
 ],
 "metadata": {
  "kernelspec": {
   "display_name": "Python 3 (ipykernel)",
   "language": "python",
   "name": "python3"
  },
  "language_info": {
   "codemirror_mode": {
    "name": "ipython",
    "version": 3
   },
   "file_extension": ".py",
   "mimetype": "text/x-python",
   "name": "python",
   "nbconvert_exporter": "python",
   "pygments_lexer": "ipython3",
   "version": "3.10.11"
  },
  "vscode": {
   "interpreter": {
    "hash": "1979a773a5778de9a5fa593a629dff0ab3c80c2563810d3e6a8dfb123dc01c7d"
   }
  }
 },
 "nbformat": 4,
 "nbformat_minor": 4
}
